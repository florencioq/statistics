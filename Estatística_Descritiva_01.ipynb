{
 "cells": [
  {
   "cell_type": "markdown",
   "metadata": {
    "id": "vx0D0D_KGDfW"
   },
   "source": [
    "Estatística descritiva é entendida como um conjunto de técnicas para facilitar a exploração, análise e sumarização de dados, bem como sua eficiente comunicação ao público interessado. "
   ]
  },
  {
   "cell_type": "markdown",
   "metadata": {
    "id": "cSuq170FLcUA"
   },
   "source": [
    "Dentre as muitas técnicas utilizadas pela estatística descritiva estão as tabelas de frequência e os gráficos do tipo pizza e barras. Neste artigo, exploramos estas ferramentas, indicando as situações de uso mais comum, e as situações possivelmente inadequadas."
   ]
  },
  {
   "cell_type": "markdown",
   "metadata": {
    "id": "PyUkziMOMdWJ"
   },
   "source": [
    "Para a construção de exemplos, utilizamos a linguagem Python com as bibliotecas Numpy, Pandas e Matplotlib, e um banco de dados dos passageiros do navio Titanic, afundado no Atlântico Norte, em 1914."
   ]
  },
  {
   "cell_type": "markdown",
   "metadata": {
    "id": "kzzLjTw6NxHL"
   },
   "source": [
    "O objetivo desse artigo não é discutir a tecnologia envolvida na construção dos exemplos, e sim o conceito estatístico. Entretanto, divulgaremos os códigos dos exemplos, especialmente para os leitores interessados em estuda-los e adapta-los para a sua realidade. "
   ]
  },
  {
   "cell_type": "markdown",
   "metadata": {
    "id": "HgFdz_kVPGN7"
   },
   "source": [
    "## Instalação dos pacotes **rdatasets**, que contém diversos bancos de dados para estudos, **numpy**, para matemática matricial, **pandas**, para facilitar operações com *dataframes*, e **matplotlib**, para criação de gráficos."
   ]
  },
  {
   "cell_type": "code",
   "execution_count": 2,
   "metadata": {
    "id": "B2YIQQrS8aYT"
   },
   "outputs": [],
   "source": [
    "from rdatasets import data"
   ]
  },
  {
   "cell_type": "code",
   "execution_count": 3,
   "metadata": {
    "id": "CRP4po6q8aYW"
   },
   "outputs": [],
   "source": [
    "import numpy as np"
   ]
  },
  {
   "cell_type": "code",
   "execution_count": 4,
   "metadata": {
    "id": "ma-m0Fz28aYW"
   },
   "outputs": [],
   "source": [
    "import pandas as pd"
   ]
  },
  {
   "cell_type": "code",
   "execution_count": 5,
   "metadata": {
    "id": "xpegVLP78aYX"
   },
   "outputs": [],
   "source": [
    "import matplotlib.pyplot as plt"
   ]
  },
  {
   "cell_type": "markdown",
   "metadata": {
    "id": "W2E_W8yjRCIq"
   },
   "source": [
    "### Carga do banco de dados específico sobre os passageiros do Titanic"
   ]
  },
  {
   "cell_type": "code",
   "execution_count": 6,
   "metadata": {
    "id": "PenhYZN-8aYX"
   },
   "outputs": [],
   "source": [
    "titanic = data(\"carData\",\"TitanicSurvival\")"
   ]
  },
  {
   "cell_type": "code",
   "execution_count": 9,
   "metadata": {
    "colab": {
     "base_uri": "https://localhost:8080/",
     "height": 419
    },
    "id": "7cN5BRuJ8aYX",
    "outputId": "f4627ce8-80c6-4b85-fb49-46b714b4545d"
   },
   "outputs": [
    {
     "data": {
      "text/html": [
       "<div>\n",
       "<style scoped>\n",
       "    .dataframe tbody tr th:only-of-type {\n",
       "        vertical-align: middle;\n",
       "    }\n",
       "\n",
       "    .dataframe tbody tr th {\n",
       "        vertical-align: top;\n",
       "    }\n",
       "\n",
       "    .dataframe thead th {\n",
       "        text-align: right;\n",
       "    }\n",
       "</style>\n",
       "<table border=\"1\" class=\"dataframe\">\n",
       "  <thead>\n",
       "    <tr style=\"text-align: right;\">\n",
       "      <th></th>\n",
       "      <th>survived</th>\n",
       "      <th>sex</th>\n",
       "      <th>age</th>\n",
       "      <th>passengerClass</th>\n",
       "    </tr>\n",
       "  </thead>\n",
       "  <tbody>\n",
       "    <tr>\n",
       "      <th>0</th>\n",
       "      <td>yes</td>\n",
       "      <td>female</td>\n",
       "      <td>29.0000</td>\n",
       "      <td>1st</td>\n",
       "    </tr>\n",
       "    <tr>\n",
       "      <th>1</th>\n",
       "      <td>yes</td>\n",
       "      <td>male</td>\n",
       "      <td>0.9167</td>\n",
       "      <td>1st</td>\n",
       "    </tr>\n",
       "    <tr>\n",
       "      <th>2</th>\n",
       "      <td>no</td>\n",
       "      <td>female</td>\n",
       "      <td>2.0000</td>\n",
       "      <td>1st</td>\n",
       "    </tr>\n",
       "    <tr>\n",
       "      <th>3</th>\n",
       "      <td>no</td>\n",
       "      <td>male</td>\n",
       "      <td>30.0000</td>\n",
       "      <td>1st</td>\n",
       "    </tr>\n",
       "    <tr>\n",
       "      <th>4</th>\n",
       "      <td>no</td>\n",
       "      <td>female</td>\n",
       "      <td>25.0000</td>\n",
       "      <td>1st</td>\n",
       "    </tr>\n",
       "    <tr>\n",
       "      <th>...</th>\n",
       "      <td>...</td>\n",
       "      <td>...</td>\n",
       "      <td>...</td>\n",
       "      <td>...</td>\n",
       "    </tr>\n",
       "    <tr>\n",
       "      <th>1304</th>\n",
       "      <td>no</td>\n",
       "      <td>female</td>\n",
       "      <td>14.5000</td>\n",
       "      <td>3rd</td>\n",
       "    </tr>\n",
       "    <tr>\n",
       "      <th>1305</th>\n",
       "      <td>no</td>\n",
       "      <td>female</td>\n",
       "      <td>NaN</td>\n",
       "      <td>3rd</td>\n",
       "    </tr>\n",
       "    <tr>\n",
       "      <th>1306</th>\n",
       "      <td>no</td>\n",
       "      <td>male</td>\n",
       "      <td>26.5000</td>\n",
       "      <td>3rd</td>\n",
       "    </tr>\n",
       "    <tr>\n",
       "      <th>1307</th>\n",
       "      <td>no</td>\n",
       "      <td>male</td>\n",
       "      <td>27.0000</td>\n",
       "      <td>3rd</td>\n",
       "    </tr>\n",
       "    <tr>\n",
       "      <th>1308</th>\n",
       "      <td>no</td>\n",
       "      <td>male</td>\n",
       "      <td>29.0000</td>\n",
       "      <td>3rd</td>\n",
       "    </tr>\n",
       "  </tbody>\n",
       "</table>\n",
       "<p>1309 rows × 4 columns</p>\n",
       "</div>"
      ],
      "text/plain": [
       "     survived     sex      age passengerClass\n",
       "0         yes  female  29.0000            1st\n",
       "1         yes    male   0.9167            1st\n",
       "2          no  female   2.0000            1st\n",
       "3          no    male  30.0000            1st\n",
       "4          no  female  25.0000            1st\n",
       "...       ...     ...      ...            ...\n",
       "1304       no  female  14.5000            3rd\n",
       "1305       no  female      NaN            3rd\n",
       "1306       no    male  26.5000            3rd\n",
       "1307       no    male  27.0000            3rd\n",
       "1308       no    male  29.0000            3rd\n",
       "\n",
       "[1309 rows x 4 columns]"
      ]
     },
     "execution_count": 9,
     "metadata": {},
     "output_type": "execute_result"
    }
   ],
   "source": [
    "titanic"
   ]
  },
  {
   "cell_type": "code",
   "execution_count": 10,
   "metadata": {
    "colab": {
     "base_uri": "https://localhost:8080/"
    },
    "id": "NEeUpywN8aYZ",
    "outputId": "89719ebb-f6d1-40a5-ba69-2e6631035383",
    "scrolled": true
   },
   "outputs": [
    {
     "ename": "TypeError",
     "evalue": "getsizeof(...)\n    getsizeof(object, default) -> int\n\n    Return the size of object in bytes.\n\nsys.getsizeof(object, default) will always return default on PyPy, and\nraise a TypeError if default is not provided.\n\nFirst note that the CPython documentation says that this function may\nraise a TypeError, so if you are seeing it, it means that the program\nyou are using is not correctly handling this case.\n\nOn PyPy, though, it always raises TypeError.  Before looking for\nalternatives, please take a moment to read the following explanation as\nto why it is the case.  What you are looking for may not be possible.\n\nA memory profiler using this function is most likely to give results\ninconsistent with reality on PyPy.  It would be possible to have\nsys.getsizeof() return a number (with enough work), but that may or\nmay not represent how much memory the object uses.  It doesn't even\nmake really sense to ask how much *one* object uses, in isolation\nwith the rest of the system.  For example, instances have maps,\nwhich are often shared across many instances; in this case the maps\nwould probably be ignored by an implementation of sys.getsizeof(),\nbut their overhead is important in some cases if they are many\ninstances with unique maps.  Conversely, equal strings may share\ntheir internal string data even if they are different objects---or\nempty containers may share parts of their internals as long as they\nare empty.  Even stranger, some lists create objects as you read\nthem; if you try to estimate the size in memory of range(10**6) as\nthe sum of all items' size, that operation will by itself create one\nmillion integer objects that never existed in the first place.\n",
     "output_type": "error",
     "traceback": [
      "\u001b[0;31m---------------------------------------------------------------------------\u001b[0m",
      "\u001b[0;31mTypeError\u001b[0m                                 Traceback (most recent call last)",
      "\u001b[0;32m<ipython-input-10-d013d6c494b6>\u001b[0m in \u001b[0;36m<module>\u001b[0;34m\u001b[0m\n\u001b[0;32m----> 1\u001b[0;31m \u001b[0mtitanic\u001b[0m\u001b[0;34m.\u001b[0m\u001b[0minfo\u001b[0m\u001b[0;34m(\u001b[0m\u001b[0;34m)\u001b[0m\u001b[0;34m\u001b[0m\u001b[0;34m\u001b[0m\u001b[0m\n\u001b[0m",
      "\u001b[0;32m~/miniconda3/envs/statistics/site-packages/pandas/core/frame.py\u001b[0m in \u001b[0;36minfo\u001b[0;34m(self, verbose, buf, max_cols, memory_usage, show_counts, null_counts)\u001b[0m\n\u001b[1;32m   2706\u001b[0m             \u001b[0mmax_cols\u001b[0m\u001b[0;34m=\u001b[0m\u001b[0mmax_cols\u001b[0m\u001b[0;34m,\u001b[0m\u001b[0;34m\u001b[0m\u001b[0;34m\u001b[0m\u001b[0m\n\u001b[1;32m   2707\u001b[0m             \u001b[0mverbose\u001b[0m\u001b[0;34m=\u001b[0m\u001b[0mverbose\u001b[0m\u001b[0;34m,\u001b[0m\u001b[0;34m\u001b[0m\u001b[0;34m\u001b[0m\u001b[0m\n\u001b[0;32m-> 2708\u001b[0;31m             \u001b[0mshow_counts\u001b[0m\u001b[0;34m=\u001b[0m\u001b[0mshow_counts\u001b[0m\u001b[0;34m,\u001b[0m\u001b[0;34m\u001b[0m\u001b[0;34m\u001b[0m\u001b[0m\n\u001b[0m\u001b[1;32m   2709\u001b[0m         )\n\u001b[1;32m   2710\u001b[0m \u001b[0;34m\u001b[0m\u001b[0m\n",
      "\u001b[0;32m~/miniconda3/envs/statistics/site-packages/pandas/io/formats/info.py\u001b[0m in \u001b[0;36mrender\u001b[0;34m(self, buf, max_cols, verbose, show_counts)\u001b[0m\n\u001b[1;32m    294\u001b[0m             \u001b[0mshow_counts\u001b[0m\u001b[0;34m=\u001b[0m\u001b[0mshow_counts\u001b[0m\u001b[0;34m,\u001b[0m\u001b[0;34m\u001b[0m\u001b[0;34m\u001b[0m\u001b[0m\n\u001b[1;32m    295\u001b[0m         )\n\u001b[0;32m--> 296\u001b[0;31m         \u001b[0mprinter\u001b[0m\u001b[0;34m.\u001b[0m\u001b[0mto_buffer\u001b[0m\u001b[0;34m(\u001b[0m\u001b[0mbuf\u001b[0m\u001b[0;34m)\u001b[0m\u001b[0;34m\u001b[0m\u001b[0;34m\u001b[0m\u001b[0m\n\u001b[0m\u001b[1;32m    297\u001b[0m \u001b[0;34m\u001b[0m\u001b[0m\n\u001b[1;32m    298\u001b[0m \u001b[0;34m\u001b[0m\u001b[0m\n",
      "\u001b[0;32m~/miniconda3/envs/statistics/site-packages/pandas/io/formats/info.py\u001b[0m in \u001b[0;36mto_buffer\u001b[0;34m(self, buf)\u001b[0m\n\u001b[1;32m    305\u001b[0m         \u001b[0;34m\"\"\"Save dataframe info into buffer.\"\"\"\u001b[0m\u001b[0;34m\u001b[0m\u001b[0;34m\u001b[0m\u001b[0m\n\u001b[1;32m    306\u001b[0m         \u001b[0mtable_builder\u001b[0m \u001b[0;34m=\u001b[0m \u001b[0mself\u001b[0m\u001b[0;34m.\u001b[0m\u001b[0m_create_table_builder\u001b[0m\u001b[0;34m(\u001b[0m\u001b[0;34m)\u001b[0m\u001b[0;34m\u001b[0m\u001b[0;34m\u001b[0m\u001b[0m\n\u001b[0;32m--> 307\u001b[0;31m         \u001b[0mlines\u001b[0m \u001b[0;34m=\u001b[0m \u001b[0mtable_builder\u001b[0m\u001b[0;34m.\u001b[0m\u001b[0mget_lines\u001b[0m\u001b[0;34m(\u001b[0m\u001b[0;34m)\u001b[0m\u001b[0;34m\u001b[0m\u001b[0;34m\u001b[0m\u001b[0m\n\u001b[0m\u001b[1;32m    308\u001b[0m         \u001b[0;32mif\u001b[0m \u001b[0mbuf\u001b[0m \u001b[0;32mis\u001b[0m \u001b[0;32mNone\u001b[0m\u001b[0;34m:\u001b[0m  \u001b[0;31m# pragma: no cover\u001b[0m\u001b[0;34m\u001b[0m\u001b[0;34m\u001b[0m\u001b[0m\n\u001b[1;32m    309\u001b[0m             \u001b[0mbuf\u001b[0m \u001b[0;34m=\u001b[0m \u001b[0msys\u001b[0m\u001b[0;34m.\u001b[0m\u001b[0mstdout\u001b[0m\u001b[0;34m\u001b[0m\u001b[0;34m\u001b[0m\u001b[0m\n",
      "\u001b[0;32m~/miniconda3/envs/statistics/site-packages/pandas/io/formats/info.py\u001b[0m in \u001b[0;36mget_lines\u001b[0;34m(self)\u001b[0m\n\u001b[1;32m    470\u001b[0m             \u001b[0mself\u001b[0m\u001b[0;34m.\u001b[0m\u001b[0m_fill_empty_info\u001b[0m\u001b[0;34m(\u001b[0m\u001b[0;34m)\u001b[0m\u001b[0;34m\u001b[0m\u001b[0;34m\u001b[0m\u001b[0m\n\u001b[1;32m    471\u001b[0m         \u001b[0;32melse\u001b[0m\u001b[0;34m:\u001b[0m\u001b[0;34m\u001b[0m\u001b[0;34m\u001b[0m\u001b[0m\n\u001b[0;32m--> 472\u001b[0;31m             \u001b[0mself\u001b[0m\u001b[0;34m.\u001b[0m\u001b[0m_fill_non_empty_info\u001b[0m\u001b[0;34m(\u001b[0m\u001b[0;34m)\u001b[0m\u001b[0;34m\u001b[0m\u001b[0;34m\u001b[0m\u001b[0m\n\u001b[0m\u001b[1;32m    473\u001b[0m         \u001b[0;32mreturn\u001b[0m \u001b[0mself\u001b[0m\u001b[0;34m.\u001b[0m\u001b[0m_lines\u001b[0m\u001b[0;34m\u001b[0m\u001b[0;34m\u001b[0m\u001b[0m\n\u001b[1;32m    474\u001b[0m \u001b[0;34m\u001b[0m\u001b[0m\n",
      "\u001b[0;32m~/miniconda3/envs/statistics/site-packages/pandas/io/formats/info.py\u001b[0m in \u001b[0;36m_fill_non_empty_info\u001b[0;34m(self)\u001b[0m\n\u001b[1;32m    640\u001b[0m         \u001b[0mself\u001b[0m\u001b[0;34m.\u001b[0m\u001b[0madd_dtypes_line\u001b[0m\u001b[0;34m(\u001b[0m\u001b[0;34m)\u001b[0m\u001b[0;34m\u001b[0m\u001b[0;34m\u001b[0m\u001b[0m\n\u001b[1;32m    641\u001b[0m         \u001b[0;32mif\u001b[0m \u001b[0mself\u001b[0m\u001b[0;34m.\u001b[0m\u001b[0mdisplay_memory_usage\u001b[0m\u001b[0;34m:\u001b[0m\u001b[0;34m\u001b[0m\u001b[0;34m\u001b[0m\u001b[0m\n\u001b[0;32m--> 642\u001b[0;31m             \u001b[0mself\u001b[0m\u001b[0;34m.\u001b[0m\u001b[0madd_memory_usage_line\u001b[0m\u001b[0;34m(\u001b[0m\u001b[0;34m)\u001b[0m\u001b[0;34m\u001b[0m\u001b[0;34m\u001b[0m\u001b[0m\n\u001b[0m\u001b[1;32m    643\u001b[0m \u001b[0;34m\u001b[0m\u001b[0m\n\u001b[1;32m    644\u001b[0m     \u001b[0;34m@\u001b[0m\u001b[0mproperty\u001b[0m\u001b[0;34m\u001b[0m\u001b[0;34m\u001b[0m\u001b[0m\n",
      "\u001b[0;32m~/miniconda3/envs/statistics/site-packages/pandas/io/formats/info.py\u001b[0m in \u001b[0;36madd_memory_usage_line\u001b[0;34m(self)\u001b[0m\n\u001b[1;32m    500\u001b[0m     \u001b[0;32mdef\u001b[0m \u001b[0madd_memory_usage_line\u001b[0m\u001b[0;34m(\u001b[0m\u001b[0mself\u001b[0m\u001b[0;34m)\u001b[0m \u001b[0;34m->\u001b[0m \u001b[0;32mNone\u001b[0m\u001b[0;34m:\u001b[0m\u001b[0;34m\u001b[0m\u001b[0;34m\u001b[0m\u001b[0m\n\u001b[1;32m    501\u001b[0m         \u001b[0;34m\"\"\"Add line containing memory usage.\"\"\"\u001b[0m\u001b[0;34m\u001b[0m\u001b[0;34m\u001b[0m\u001b[0m\n\u001b[0;32m--> 502\u001b[0;31m         \u001b[0mself\u001b[0m\u001b[0;34m.\u001b[0m\u001b[0m_lines\u001b[0m\u001b[0;34m.\u001b[0m\u001b[0mappend\u001b[0m\u001b[0;34m(\u001b[0m\u001b[0;34mf\"memory usage: {self.memory_usage_string}\"\u001b[0m\u001b[0;34m)\u001b[0m\u001b[0;34m\u001b[0m\u001b[0;34m\u001b[0m\u001b[0m\n\u001b[0m\u001b[1;32m    503\u001b[0m \u001b[0;34m\u001b[0m\u001b[0m\n\u001b[1;32m    504\u001b[0m \u001b[0;34m\u001b[0m\u001b[0m\n",
      "\u001b[0;32m~/miniconda3/envs/statistics/site-packages/pandas/io/formats/info.py\u001b[0m in \u001b[0;36mmemory_usage_string\u001b[0;34m(self)\u001b[0m\n\u001b[1;32m    430\u001b[0m     \u001b[0;32mdef\u001b[0m \u001b[0mmemory_usage_string\u001b[0m\u001b[0;34m(\u001b[0m\u001b[0mself\u001b[0m\u001b[0;34m)\u001b[0m \u001b[0;34m->\u001b[0m \u001b[0mstr\u001b[0m\u001b[0;34m:\u001b[0m\u001b[0;34m\u001b[0m\u001b[0;34m\u001b[0m\u001b[0m\n\u001b[1;32m    431\u001b[0m         \u001b[0;34m\"\"\"Memory usage string with proper size qualifier.\"\"\"\u001b[0m\u001b[0;34m\u001b[0m\u001b[0;34m\u001b[0m\u001b[0m\n\u001b[0;32m--> 432\u001b[0;31m         \u001b[0;32mreturn\u001b[0m \u001b[0mself\u001b[0m\u001b[0;34m.\u001b[0m\u001b[0minfo\u001b[0m\u001b[0;34m.\u001b[0m\u001b[0mmemory_usage_string\u001b[0m\u001b[0;34m\u001b[0m\u001b[0;34m\u001b[0m\u001b[0m\n\u001b[0m\u001b[1;32m    433\u001b[0m \u001b[0;34m\u001b[0m\u001b[0m\n\u001b[1;32m    434\u001b[0m     \u001b[0;34m@\u001b[0m\u001b[0mproperty\u001b[0m\u001b[0;34m\u001b[0m\u001b[0;34m\u001b[0m\u001b[0m\n",
      "\u001b[0;32m~/miniconda3/envs/statistics/site-packages/pandas/io/formats/info.py\u001b[0m in \u001b[0;36mmemory_usage_string\u001b[0;34m(self)\u001b[0m\n\u001b[1;32m    146\u001b[0m     \u001b[0;32mdef\u001b[0m \u001b[0mmemory_usage_string\u001b[0m\u001b[0;34m(\u001b[0m\u001b[0mself\u001b[0m\u001b[0;34m)\u001b[0m \u001b[0;34m->\u001b[0m \u001b[0mstr\u001b[0m\u001b[0;34m:\u001b[0m\u001b[0;34m\u001b[0m\u001b[0;34m\u001b[0m\u001b[0m\n\u001b[1;32m    147\u001b[0m         \u001b[0;34m\"\"\"Memory usage in a form of human readable string.\"\"\"\u001b[0m\u001b[0;34m\u001b[0m\u001b[0;34m\u001b[0m\u001b[0m\n\u001b[0;32m--> 148\u001b[0;31m         \u001b[0;32mreturn\u001b[0m \u001b[0;34mf\"{_sizeof_fmt(self.memory_usage_bytes, self.size_qualifier)}\\n\"\u001b[0m\u001b[0;34m\u001b[0m\u001b[0;34m\u001b[0m\u001b[0m\n\u001b[0m\u001b[1;32m    149\u001b[0m \u001b[0;34m\u001b[0m\u001b[0m\n\u001b[1;32m    150\u001b[0m     \u001b[0;34m@\u001b[0m\u001b[0mproperty\u001b[0m\u001b[0;34m\u001b[0m\u001b[0;34m\u001b[0m\u001b[0m\n",
      "\u001b[0;32m~/miniconda3/envs/statistics/site-packages/pandas/io/formats/info.py\u001b[0m in \u001b[0;36mmemory_usage_bytes\u001b[0;34m(self)\u001b[0m\n\u001b[1;32m    278\u001b[0m         \u001b[0;32melse\u001b[0m\u001b[0;34m:\u001b[0m\u001b[0;34m\u001b[0m\u001b[0;34m\u001b[0m\u001b[0m\n\u001b[1;32m    279\u001b[0m             \u001b[0mdeep\u001b[0m \u001b[0;34m=\u001b[0m \u001b[0;32mFalse\u001b[0m\u001b[0;34m\u001b[0m\u001b[0;34m\u001b[0m\u001b[0m\n\u001b[0;32m--> 280\u001b[0;31m         \u001b[0;32mreturn\u001b[0m \u001b[0mself\u001b[0m\u001b[0;34m.\u001b[0m\u001b[0mdata\u001b[0m\u001b[0;34m.\u001b[0m\u001b[0mmemory_usage\u001b[0m\u001b[0;34m(\u001b[0m\u001b[0mindex\u001b[0m\u001b[0;34m=\u001b[0m\u001b[0;32mTrue\u001b[0m\u001b[0;34m,\u001b[0m \u001b[0mdeep\u001b[0m\u001b[0;34m=\u001b[0m\u001b[0mdeep\u001b[0m\u001b[0;34m)\u001b[0m\u001b[0;34m.\u001b[0m\u001b[0msum\u001b[0m\u001b[0;34m(\u001b[0m\u001b[0;34m)\u001b[0m\u001b[0;34m\u001b[0m\u001b[0;34m\u001b[0m\u001b[0m\n\u001b[0m\u001b[1;32m    281\u001b[0m \u001b[0;34m\u001b[0m\u001b[0m\n\u001b[1;32m    282\u001b[0m     def render(\n",
      "\u001b[0;32m~/miniconda3/envs/statistics/site-packages/pandas/core/frame.py\u001b[0m in \u001b[0;36mmemory_usage\u001b[0;34m(self, index, deep)\u001b[0m\n\u001b[1;32m   2799\u001b[0m         \u001b[0;32mif\u001b[0m \u001b[0mindex\u001b[0m\u001b[0;34m:\u001b[0m\u001b[0;34m\u001b[0m\u001b[0;34m\u001b[0m\u001b[0m\n\u001b[1;32m   2800\u001b[0m             result = self._constructor_sliced(\n\u001b[0;32m-> 2801\u001b[0;31m                 \u001b[0mself\u001b[0m\u001b[0;34m.\u001b[0m\u001b[0mindex\u001b[0m\u001b[0;34m.\u001b[0m\u001b[0mmemory_usage\u001b[0m\u001b[0;34m(\u001b[0m\u001b[0mdeep\u001b[0m\u001b[0;34m=\u001b[0m\u001b[0mdeep\u001b[0m\u001b[0;34m)\u001b[0m\u001b[0;34m,\u001b[0m \u001b[0mindex\u001b[0m\u001b[0;34m=\u001b[0m\u001b[0;34m[\u001b[0m\u001b[0;34m\"Index\"\u001b[0m\u001b[0;34m]\u001b[0m\u001b[0;34m\u001b[0m\u001b[0;34m\u001b[0m\u001b[0m\n\u001b[0m\u001b[1;32m   2802\u001b[0m             ).append(result)\n\u001b[1;32m   2803\u001b[0m         \u001b[0;32mreturn\u001b[0m \u001b[0mresult\u001b[0m\u001b[0;34m\u001b[0m\u001b[0;34m\u001b[0m\u001b[0m\n",
      "\u001b[0;32m~/miniconda3/envs/statistics/site-packages/pandas/core/indexes/range.py\u001b[0m in \u001b[0;36mmemory_usage\u001b[0;34m(self, deep)\u001b[0m\n\u001b[1;32m    309\u001b[0m         \u001b[0mnumpy\u001b[0m\u001b[0;34m.\u001b[0m\u001b[0mndarray\u001b[0m\u001b[0;34m.\u001b[0m\u001b[0mnbytes\u001b[0m\u001b[0;34m\u001b[0m\u001b[0;34m\u001b[0m\u001b[0m\n\u001b[1;32m    310\u001b[0m         \"\"\"\n\u001b[0;32m--> 311\u001b[0;31m         \u001b[0;32mreturn\u001b[0m \u001b[0mself\u001b[0m\u001b[0;34m.\u001b[0m\u001b[0mnbytes\u001b[0m\u001b[0;34m\u001b[0m\u001b[0;34m\u001b[0m\u001b[0m\n\u001b[0m\u001b[1;32m    312\u001b[0m \u001b[0;34m\u001b[0m\u001b[0m\n\u001b[1;32m    313\u001b[0m     \u001b[0;34m@\u001b[0m\u001b[0mproperty\u001b[0m\u001b[0;34m\u001b[0m\u001b[0;34m\u001b[0m\u001b[0m\n",
      "\u001b[0;32mpandas/_libs/properties.pyx\u001b[0m in \u001b[0;36mpandas._libs.properties.CachedProperty.__get__\u001b[0;34m()\u001b[0m\n",
      "\u001b[0;32m~/miniconda3/envs/statistics/site-packages/pandas/core/indexes/range.py\u001b[0m in \u001b[0;36mnbytes\u001b[0;34m(self)\u001b[0m\n\u001b[1;32m    281\u001b[0m         \"\"\"\n\u001b[1;32m    282\u001b[0m         \u001b[0mrng\u001b[0m \u001b[0;34m=\u001b[0m \u001b[0mself\u001b[0m\u001b[0;34m.\u001b[0m\u001b[0m_range\u001b[0m\u001b[0;34m\u001b[0m\u001b[0;34m\u001b[0m\u001b[0m\n\u001b[0;32m--> 283\u001b[0;31m         return getsizeof(rng) + sum(\n\u001b[0m\u001b[1;32m    284\u001b[0m             \u001b[0mgetsizeof\u001b[0m\u001b[0;34m(\u001b[0m\u001b[0mgetattr\u001b[0m\u001b[0;34m(\u001b[0m\u001b[0mrng\u001b[0m\u001b[0;34m,\u001b[0m \u001b[0mattr_name\u001b[0m\u001b[0;34m)\u001b[0m\u001b[0;34m)\u001b[0m\u001b[0;34m\u001b[0m\u001b[0;34m\u001b[0m\u001b[0m\n\u001b[1;32m    285\u001b[0m             \u001b[0;32mfor\u001b[0m \u001b[0mattr_name\u001b[0m \u001b[0;32min\u001b[0m \u001b[0;34m[\u001b[0m\u001b[0;34m\"start\"\u001b[0m\u001b[0;34m,\u001b[0m \u001b[0;34m\"stop\"\u001b[0m\u001b[0;34m,\u001b[0m \u001b[0;34m\"step\"\u001b[0m\u001b[0;34m]\u001b[0m\u001b[0;34m\u001b[0m\u001b[0;34m\u001b[0m\u001b[0m\n",
      "\u001b[0;31mTypeError\u001b[0m: getsizeof(...)\n    getsizeof(object, default) -> int\n\n    Return the size of object in bytes.\n\nsys.getsizeof(object, default) will always return default on PyPy, and\nraise a TypeError if default is not provided.\n\nFirst note that the CPython documentation says that this function may\nraise a TypeError, so if you are seeing it, it means that the program\nyou are using is not correctly handling this case.\n\nOn PyPy, though, it always raises TypeError.  Before looking for\nalternatives, please take a moment to read the following explanation as\nto why it is the case.  What you are looking for may not be possible.\n\nA memory profiler using this function is most likely to give results\ninconsistent with reality on PyPy.  It would be possible to have\nsys.getsizeof() return a number (with enough work), but that may or\nmay not represent how much memory the object uses.  It doesn't even\nmake really sense to ask how much *one* object uses, in isolation\nwith the rest of the system.  For example, instances have maps,\nwhich are often shared across many instances; in this case the maps\nwould probably be ignored by an implementation of sys.getsizeof(),\nbut their overhead is important in some cases if they are many\ninstances with unique maps.  Conversely, equal strings may share\ntheir internal string data even if they are different objects---or\nempty containers may share parts of their internals as long as they\nare empty.  Even stranger, some lists create objects as you read\nthem; if you try to estimate the size in memory of range(10**6) as\nthe sum of all items' size, that operation will by itself create one\nmillion integer objects that never existed in the first place.\n"
     ]
    }
   ],
   "source": [
    "titanic.info()"
   ]
  },
  {
   "cell_type": "markdown",
   "metadata": {
    "id": "diqdb7sgNCn2"
   },
   "source": []
  },
  {
   "cell_type": "markdown",
   "metadata": {
    "id": "qjCntQkN8aYZ"
   },
   "source": [
    "## Tabelas de Frequência por Classes"
   ]
  },
  {
   "cell_type": "markdown",
   "metadata": {
    "id": "c2vTvBIVRy45"
   },
   "source": [
    "**Tabelas de frequência são tabelas que expõem contagens de quantas vezes um determinado evento aconteceu. Normalmente cria-se tabelas de frequência classificando-se e contando-se as ocorrências por tipo ou tipos.**"
   ]
  },
  {
   "cell_type": "markdown",
   "metadata": {
    "id": "g7zBLrtVQtqI"
   },
   "source": [
    "**O código seguinte calcula uma tabela de frequência que mostra quantos passageiros sobreviveram ao naufrágio e quantos não sobreviveram.**"
   ]
  },
  {
   "cell_type": "code",
   "execution_count": 11,
   "metadata": {
    "colab": {
     "base_uri": "https://localhost:8080/",
     "height": 173
    },
    "id": "hOTKF00m8aYj",
    "outputId": "14851acf-3739-41e8-b42f-c435f1ad189e"
   },
   "outputs": [
    {
     "data": {
      "text/html": [
       "<div>\n",
       "<style scoped>\n",
       "    .dataframe tbody tr th:only-of-type {\n",
       "        vertical-align: middle;\n",
       "    }\n",
       "\n",
       "    .dataframe tbody tr th {\n",
       "        vertical-align: top;\n",
       "    }\n",
       "\n",
       "    .dataframe thead th {\n",
       "        text-align: right;\n",
       "    }\n",
       "</style>\n",
       "<table border=\"1\" class=\"dataframe\">\n",
       "  <thead>\n",
       "    <tr style=\"text-align: right;\">\n",
       "      <th>col_0</th>\n",
       "      <th>count</th>\n",
       "    </tr>\n",
       "    <tr>\n",
       "      <th>survived</th>\n",
       "      <th></th>\n",
       "    </tr>\n",
       "  </thead>\n",
       "  <tbody>\n",
       "    <tr>\n",
       "      <th>no</th>\n",
       "      <td>809</td>\n",
       "    </tr>\n",
       "    <tr>\n",
       "      <th>yes</th>\n",
       "      <td>500</td>\n",
       "    </tr>\n",
       "    <tr>\n",
       "      <th>All</th>\n",
       "      <td>1309</td>\n",
       "    </tr>\n",
       "  </tbody>\n",
       "</table>\n",
       "</div>"
      ],
      "text/plain": [
       "col_0     count\n",
       "survived       \n",
       "no          809\n",
       "yes         500\n",
       "All        1309"
      ]
     },
     "execution_count": 11,
     "metadata": {},
     "output_type": "execute_result"
    }
   ],
   "source": [
    "pd.crosstab(index=titanic[\"survived\"], columns=\"count\", margins=True).drop(columns=[\"All\"])"
   ]
  },
  {
   "cell_type": "markdown",
   "metadata": {
    "id": "jS9aS5gxRY19"
   },
   "source": [
    "**O código seguinte calcula uma tabela de frequência bidimensional, contando quantos passageiros sobreviveram e não sobreviveram, por classe de passageiro.**"
   ]
  },
  {
   "cell_type": "code",
   "execution_count": 12,
   "metadata": {
    "id": "GW4-oCem8aYk"
   },
   "outputs": [],
   "source": [
    "titanic_class = pd.crosstab(index=titanic[\"survived\"],columns=titanic[\"passengerClass\"], margins=True) "
   ]
  },
  {
   "cell_type": "code",
   "execution_count": 13,
   "metadata": {
    "colab": {
     "base_uri": "https://localhost:8080/",
     "height": 173
    },
    "id": "EN_JW7r18aYk",
    "outputId": "ca995029-c558-4fb0-a16c-95403a3ef019",
    "scrolled": true
   },
   "outputs": [
    {
     "data": {
      "text/html": [
       "<div>\n",
       "<style scoped>\n",
       "    .dataframe tbody tr th:only-of-type {\n",
       "        vertical-align: middle;\n",
       "    }\n",
       "\n",
       "    .dataframe tbody tr th {\n",
       "        vertical-align: top;\n",
       "    }\n",
       "\n",
       "    .dataframe thead th {\n",
       "        text-align: right;\n",
       "    }\n",
       "</style>\n",
       "<table border=\"1\" class=\"dataframe\">\n",
       "  <thead>\n",
       "    <tr style=\"text-align: right;\">\n",
       "      <th>passengerClass</th>\n",
       "      <th>1st</th>\n",
       "      <th>2nd</th>\n",
       "      <th>3rd</th>\n",
       "      <th>All</th>\n",
       "    </tr>\n",
       "    <tr>\n",
       "      <th>survived</th>\n",
       "      <th></th>\n",
       "      <th></th>\n",
       "      <th></th>\n",
       "      <th></th>\n",
       "    </tr>\n",
       "  </thead>\n",
       "  <tbody>\n",
       "    <tr>\n",
       "      <th>no</th>\n",
       "      <td>123</td>\n",
       "      <td>158</td>\n",
       "      <td>528</td>\n",
       "      <td>809</td>\n",
       "    </tr>\n",
       "    <tr>\n",
       "      <th>yes</th>\n",
       "      <td>200</td>\n",
       "      <td>119</td>\n",
       "      <td>181</td>\n",
       "      <td>500</td>\n",
       "    </tr>\n",
       "    <tr>\n",
       "      <th>All</th>\n",
       "      <td>323</td>\n",
       "      <td>277</td>\n",
       "      <td>709</td>\n",
       "      <td>1309</td>\n",
       "    </tr>\n",
       "  </tbody>\n",
       "</table>\n",
       "</div>"
      ],
      "text/plain": [
       "passengerClass  1st  2nd  3rd   All\n",
       "survived                           \n",
       "no              123  158  528   809\n",
       "yes             200  119  181   500\n",
       "All             323  277  709  1309"
      ]
     },
     "execution_count": 13,
     "metadata": {},
     "output_type": "execute_result"
    }
   ],
   "source": [
    "titanic_class"
   ]
  },
  {
   "cell_type": "markdown",
   "metadata": {
    "id": "YwUfYXWObXcf"
   },
   "source": [
    "**Uma variação na tabela de frequência seria mostrar, ao invés da contagem, o percentual. No exemplo abaixo, mostramos o percentual de sobrevivência ou não, por classe de viagem.**"
   ]
  },
  {
   "cell_type": "code",
   "execution_count": 14,
   "metadata": {
    "colab": {
     "base_uri": "https://localhost:8080/",
     "height": 173
    },
    "id": "GNofE6p58aYk",
    "outputId": "28f68890-f63c-4a25-ecac-bead798de4af",
    "scrolled": true
   },
   "outputs": [
    {
     "data": {
      "text/html": [
       "<div>\n",
       "<style scoped>\n",
       "    .dataframe tbody tr th:only-of-type {\n",
       "        vertical-align: middle;\n",
       "    }\n",
       "\n",
       "    .dataframe tbody tr th {\n",
       "        vertical-align: top;\n",
       "    }\n",
       "\n",
       "    .dataframe thead th {\n",
       "        text-align: right;\n",
       "    }\n",
       "</style>\n",
       "<table border=\"1\" class=\"dataframe\">\n",
       "  <thead>\n",
       "    <tr style=\"text-align: right;\">\n",
       "      <th>passengerClass</th>\n",
       "      <th>1st</th>\n",
       "      <th>2nd</th>\n",
       "      <th>3rd</th>\n",
       "      <th>All</th>\n",
       "    </tr>\n",
       "    <tr>\n",
       "      <th>survived</th>\n",
       "      <th></th>\n",
       "      <th></th>\n",
       "      <th></th>\n",
       "      <th></th>\n",
       "    </tr>\n",
       "  </thead>\n",
       "  <tbody>\n",
       "    <tr>\n",
       "      <th>no</th>\n",
       "      <td>0.380805</td>\n",
       "      <td>0.570397</td>\n",
       "      <td>0.744711</td>\n",
       "      <td>0.618029</td>\n",
       "    </tr>\n",
       "    <tr>\n",
       "      <th>yes</th>\n",
       "      <td>0.619195</td>\n",
       "      <td>0.429603</td>\n",
       "      <td>0.255289</td>\n",
       "      <td>0.381971</td>\n",
       "    </tr>\n",
       "    <tr>\n",
       "      <th>All</th>\n",
       "      <td>1.000000</td>\n",
       "      <td>1.000000</td>\n",
       "      <td>1.000000</td>\n",
       "      <td>1.000000</td>\n",
       "    </tr>\n",
       "  </tbody>\n",
       "</table>\n",
       "</div>"
      ],
      "text/plain": [
       "passengerClass       1st       2nd       3rd       All\n",
       "survived                                              \n",
       "no              0.380805  0.570397  0.744711  0.618029\n",
       "yes             0.619195  0.429603  0.255289  0.381971\n",
       "All             1.000000  1.000000  1.000000  1.000000"
      ]
     },
     "execution_count": 14,
     "metadata": {},
     "output_type": "execute_result"
    }
   ],
   "source": [
    "titanic_class/titanic_class.loc[\"All\"]"
   ]
  },
  {
   "cell_type": "markdown",
   "metadata": {
    "id": "MP94OFl5b4AM"
   },
   "source": [
    "**Alternativamente, pode-se calcular o percentual de classe de viage, dentro dos que sobreviveram ou não, como no exemplo abaixo.**"
   ]
  },
  {
   "cell_type": "code",
   "execution_count": 15,
   "metadata": {
    "colab": {
     "base_uri": "https://localhost:8080/",
     "height": 173
    },
    "id": "phIcDhDq8aYl",
    "outputId": "6efd7523-d384-4b48-8cdd-4e1dbf3110d5",
    "scrolled": false
   },
   "outputs": [
    {
     "data": {
      "text/html": [
       "<div>\n",
       "<style scoped>\n",
       "    .dataframe tbody tr th:only-of-type {\n",
       "        vertical-align: middle;\n",
       "    }\n",
       "\n",
       "    .dataframe tbody tr th {\n",
       "        vertical-align: top;\n",
       "    }\n",
       "\n",
       "    .dataframe thead th {\n",
       "        text-align: right;\n",
       "    }\n",
       "</style>\n",
       "<table border=\"1\" class=\"dataframe\">\n",
       "  <thead>\n",
       "    <tr style=\"text-align: right;\">\n",
       "      <th>passengerClass</th>\n",
       "      <th>1st</th>\n",
       "      <th>2nd</th>\n",
       "      <th>3rd</th>\n",
       "      <th>All</th>\n",
       "    </tr>\n",
       "    <tr>\n",
       "      <th>survived</th>\n",
       "      <th></th>\n",
       "      <th></th>\n",
       "      <th></th>\n",
       "      <th></th>\n",
       "    </tr>\n",
       "  </thead>\n",
       "  <tbody>\n",
       "    <tr>\n",
       "      <th>no</th>\n",
       "      <td>0.152040</td>\n",
       "      <td>0.195303</td>\n",
       "      <td>0.652658</td>\n",
       "      <td>1.0</td>\n",
       "    </tr>\n",
       "    <tr>\n",
       "      <th>yes</th>\n",
       "      <td>0.400000</td>\n",
       "      <td>0.238000</td>\n",
       "      <td>0.362000</td>\n",
       "      <td>1.0</td>\n",
       "    </tr>\n",
       "    <tr>\n",
       "      <th>All</th>\n",
       "      <td>0.246753</td>\n",
       "      <td>0.211612</td>\n",
       "      <td>0.541635</td>\n",
       "      <td>1.0</td>\n",
       "    </tr>\n",
       "  </tbody>\n",
       "</table>\n",
       "</div>"
      ],
      "text/plain": [
       "passengerClass       1st       2nd       3rd  All\n",
       "survived                                         \n",
       "no              0.152040  0.195303  0.652658  1.0\n",
       "yes             0.400000  0.238000  0.362000  1.0\n",
       "All             0.246753  0.211612  0.541635  1.0"
      ]
     },
     "execution_count": 15,
     "metadata": {},
     "output_type": "execute_result"
    }
   ],
   "source": [
    "titanic_class.div(titanic_class[\"All\"], axis=0)"
   ]
  },
  {
   "cell_type": "markdown",
   "metadata": {
    "id": "--IF8iptcPMb"
   },
   "source": [
    "**A seguir, calculamos uma tabela de frequência que conta os sobreviventes ou não, por sexo do passageiro.**"
   ]
  },
  {
   "cell_type": "code",
   "execution_count": 16,
   "metadata": {
    "id": "qof-AH5w8aYl"
   },
   "outputs": [],
   "source": [
    "titanic_sex = pd.crosstab(index=titanic[\"survived\"],columns=titanic[\"sex\"], margins=True) "
   ]
  },
  {
   "cell_type": "code",
   "execution_count": 17,
   "metadata": {
    "colab": {
     "base_uri": "https://localhost:8080/",
     "height": 173
    },
    "id": "8D2X4lZK8aYl",
    "outputId": "3821f0e7-156b-4aae-ba0f-b46aef484d5a",
    "scrolled": false
   },
   "outputs": [
    {
     "data": {
      "text/html": [
       "<div>\n",
       "<style scoped>\n",
       "    .dataframe tbody tr th:only-of-type {\n",
       "        vertical-align: middle;\n",
       "    }\n",
       "\n",
       "    .dataframe tbody tr th {\n",
       "        vertical-align: top;\n",
       "    }\n",
       "\n",
       "    .dataframe thead th {\n",
       "        text-align: right;\n",
       "    }\n",
       "</style>\n",
       "<table border=\"1\" class=\"dataframe\">\n",
       "  <thead>\n",
       "    <tr style=\"text-align: right;\">\n",
       "      <th>sex</th>\n",
       "      <th>female</th>\n",
       "      <th>male</th>\n",
       "      <th>All</th>\n",
       "    </tr>\n",
       "    <tr>\n",
       "      <th>survived</th>\n",
       "      <th></th>\n",
       "      <th></th>\n",
       "      <th></th>\n",
       "    </tr>\n",
       "  </thead>\n",
       "  <tbody>\n",
       "    <tr>\n",
       "      <th>no</th>\n",
       "      <td>127</td>\n",
       "      <td>682</td>\n",
       "      <td>809</td>\n",
       "    </tr>\n",
       "    <tr>\n",
       "      <th>yes</th>\n",
       "      <td>339</td>\n",
       "      <td>161</td>\n",
       "      <td>500</td>\n",
       "    </tr>\n",
       "    <tr>\n",
       "      <th>All</th>\n",
       "      <td>466</td>\n",
       "      <td>843</td>\n",
       "      <td>1309</td>\n",
       "    </tr>\n",
       "  </tbody>\n",
       "</table>\n",
       "</div>"
      ],
      "text/plain": [
       "sex       female  male   All\n",
       "survived                    \n",
       "no           127   682   809\n",
       "yes          339   161   500\n",
       "All          466   843  1309"
      ]
     },
     "execution_count": 17,
     "metadata": {},
     "output_type": "execute_result"
    }
   ],
   "source": [
    "titanic_sex"
   ]
  },
  {
   "cell_type": "markdown",
   "metadata": {
    "id": "6NGfHZGEcdeu"
   },
   "source": [
    "**Alternativamente podemos calcular o percentual de sobreviventes ou não, por sexo do passageiro.**"
   ]
  },
  {
   "cell_type": "code",
   "execution_count": 18,
   "metadata": {
    "colab": {
     "base_uri": "https://localhost:8080/",
     "height": 173
    },
    "id": "oiWpkaJw8aYl",
    "outputId": "75936928-b7a5-4442-9cf0-af2510b77202",
    "scrolled": true
   },
   "outputs": [
    {
     "data": {
      "text/html": [
       "<div>\n",
       "<style scoped>\n",
       "    .dataframe tbody tr th:only-of-type {\n",
       "        vertical-align: middle;\n",
       "    }\n",
       "\n",
       "    .dataframe tbody tr th {\n",
       "        vertical-align: top;\n",
       "    }\n",
       "\n",
       "    .dataframe thead th {\n",
       "        text-align: right;\n",
       "    }\n",
       "</style>\n",
       "<table border=\"1\" class=\"dataframe\">\n",
       "  <thead>\n",
       "    <tr style=\"text-align: right;\">\n",
       "      <th>sex</th>\n",
       "      <th>female</th>\n",
       "      <th>male</th>\n",
       "      <th>All</th>\n",
       "    </tr>\n",
       "    <tr>\n",
       "      <th>survived</th>\n",
       "      <th></th>\n",
       "      <th></th>\n",
       "      <th></th>\n",
       "    </tr>\n",
       "  </thead>\n",
       "  <tbody>\n",
       "    <tr>\n",
       "      <th>no</th>\n",
       "      <td>0.272532</td>\n",
       "      <td>0.809015</td>\n",
       "      <td>0.618029</td>\n",
       "    </tr>\n",
       "    <tr>\n",
       "      <th>yes</th>\n",
       "      <td>0.727468</td>\n",
       "      <td>0.190985</td>\n",
       "      <td>0.381971</td>\n",
       "    </tr>\n",
       "    <tr>\n",
       "      <th>All</th>\n",
       "      <td>1.000000</td>\n",
       "      <td>1.000000</td>\n",
       "      <td>1.000000</td>\n",
       "    </tr>\n",
       "  </tbody>\n",
       "</table>\n",
       "</div>"
      ],
      "text/plain": [
       "sex         female      male       All\n",
       "survived                              \n",
       "no        0.272532  0.809015  0.618029\n",
       "yes       0.727468  0.190985  0.381971\n",
       "All       1.000000  1.000000  1.000000"
      ]
     },
     "execution_count": 18,
     "metadata": {},
     "output_type": "execute_result"
    }
   ],
   "source": [
    "titanic_sex/titanic_sex.loc[\"All\"]"
   ]
  },
  {
   "cell_type": "markdown",
   "metadata": {
    "id": "eRixI3jVcnlb"
   },
   "source": [
    "**Pode-se também calcular o percentual para cada sexo, dentre os sobreviventes ou não sobreviventes.**"
   ]
  },
  {
   "cell_type": "code",
   "execution_count": 19,
   "metadata": {
    "colab": {
     "base_uri": "https://localhost:8080/",
     "height": 173
    },
    "id": "PbVRgp9b8aYm",
    "outputId": "c3f43eb6-8c8f-469c-f32e-1e6e0d3e13e1"
   },
   "outputs": [
    {
     "data": {
      "text/html": [
       "<div>\n",
       "<style scoped>\n",
       "    .dataframe tbody tr th:only-of-type {\n",
       "        vertical-align: middle;\n",
       "    }\n",
       "\n",
       "    .dataframe tbody tr th {\n",
       "        vertical-align: top;\n",
       "    }\n",
       "\n",
       "    .dataframe thead th {\n",
       "        text-align: right;\n",
       "    }\n",
       "</style>\n",
       "<table border=\"1\" class=\"dataframe\">\n",
       "  <thead>\n",
       "    <tr style=\"text-align: right;\">\n",
       "      <th>sex</th>\n",
       "      <th>female</th>\n",
       "      <th>male</th>\n",
       "      <th>All</th>\n",
       "    </tr>\n",
       "    <tr>\n",
       "      <th>survived</th>\n",
       "      <th></th>\n",
       "      <th></th>\n",
       "      <th></th>\n",
       "    </tr>\n",
       "  </thead>\n",
       "  <tbody>\n",
       "    <tr>\n",
       "      <th>no</th>\n",
       "      <td>0.156984</td>\n",
       "      <td>0.843016</td>\n",
       "      <td>1.0</td>\n",
       "    </tr>\n",
       "    <tr>\n",
       "      <th>yes</th>\n",
       "      <td>0.678000</td>\n",
       "      <td>0.322000</td>\n",
       "      <td>1.0</td>\n",
       "    </tr>\n",
       "    <tr>\n",
       "      <th>All</th>\n",
       "      <td>0.355997</td>\n",
       "      <td>0.644003</td>\n",
       "      <td>1.0</td>\n",
       "    </tr>\n",
       "  </tbody>\n",
       "</table>\n",
       "</div>"
      ],
      "text/plain": [
       "sex         female      male  All\n",
       "survived                         \n",
       "no        0.156984  0.843016  1.0\n",
       "yes       0.678000  0.322000  1.0\n",
       "All       0.355997  0.644003  1.0"
      ]
     },
     "execution_count": 19,
     "metadata": {},
     "output_type": "execute_result"
    }
   ],
   "source": [
    "titanic_sex.div(titanic_class[\"All\"], axis=0)"
   ]
  },
  {
   "cell_type": "markdown",
   "metadata": {
    "id": "Dx1BMP2lcz98"
   },
   "source": [
    "**O exemplo abaixo calcula uma tabela de frequência tridimensional. Observar que a contagem de sobreviventes ou não sobreviventes, é feita, agrupando ainda por classe de passageiro e sexo.**\n"
   ]
  },
  {
   "cell_type": "code",
   "execution_count": 20,
   "metadata": {
    "id": "u1z9U7hb8aYm"
   },
   "outputs": [],
   "source": [
    "titanic_class_sex = pd.crosstab(index=titanic[\"survived\"],\\\n",
    "columns=[titanic[\"passengerClass\"],titanic[\"sex\"]], margins=True) "
   ]
  },
  {
   "cell_type": "code",
   "execution_count": 21,
   "metadata": {
    "colab": {
     "base_uri": "https://localhost:8080/",
     "height": 204
    },
    "id": "_pdU6JNH8aYm",
    "outputId": "02e4906b-2f62-4be7-cbc3-27f67be1712b"
   },
   "outputs": [
    {
     "data": {
      "text/html": [
       "<div>\n",
       "<style scoped>\n",
       "    .dataframe tbody tr th:only-of-type {\n",
       "        vertical-align: middle;\n",
       "    }\n",
       "\n",
       "    .dataframe tbody tr th {\n",
       "        vertical-align: top;\n",
       "    }\n",
       "\n",
       "    .dataframe thead tr th {\n",
       "        text-align: left;\n",
       "    }\n",
       "\n",
       "    .dataframe thead tr:last-of-type th {\n",
       "        text-align: right;\n",
       "    }\n",
       "</style>\n",
       "<table border=\"1\" class=\"dataframe\">\n",
       "  <thead>\n",
       "    <tr>\n",
       "      <th>passengerClass</th>\n",
       "      <th colspan=\"2\" halign=\"left\">1st</th>\n",
       "      <th colspan=\"2\" halign=\"left\">2nd</th>\n",
       "      <th colspan=\"2\" halign=\"left\">3rd</th>\n",
       "      <th>All</th>\n",
       "    </tr>\n",
       "    <tr>\n",
       "      <th>sex</th>\n",
       "      <th>female</th>\n",
       "      <th>male</th>\n",
       "      <th>female</th>\n",
       "      <th>male</th>\n",
       "      <th>female</th>\n",
       "      <th>male</th>\n",
       "      <th></th>\n",
       "    </tr>\n",
       "    <tr>\n",
       "      <th>survived</th>\n",
       "      <th></th>\n",
       "      <th></th>\n",
       "      <th></th>\n",
       "      <th></th>\n",
       "      <th></th>\n",
       "      <th></th>\n",
       "      <th></th>\n",
       "    </tr>\n",
       "  </thead>\n",
       "  <tbody>\n",
       "    <tr>\n",
       "      <th>no</th>\n",
       "      <td>5</td>\n",
       "      <td>118</td>\n",
       "      <td>12</td>\n",
       "      <td>146</td>\n",
       "      <td>110</td>\n",
       "      <td>418</td>\n",
       "      <td>809</td>\n",
       "    </tr>\n",
       "    <tr>\n",
       "      <th>yes</th>\n",
       "      <td>139</td>\n",
       "      <td>61</td>\n",
       "      <td>94</td>\n",
       "      <td>25</td>\n",
       "      <td>106</td>\n",
       "      <td>75</td>\n",
       "      <td>500</td>\n",
       "    </tr>\n",
       "    <tr>\n",
       "      <th>All</th>\n",
       "      <td>144</td>\n",
       "      <td>179</td>\n",
       "      <td>106</td>\n",
       "      <td>171</td>\n",
       "      <td>216</td>\n",
       "      <td>493</td>\n",
       "      <td>1309</td>\n",
       "    </tr>\n",
       "  </tbody>\n",
       "</table>\n",
       "</div>"
      ],
      "text/plain": [
       "passengerClass    1st         2nd         3rd        All\n",
       "sex            female male female male female male      \n",
       "survived                                                \n",
       "no                  5  118     12  146    110  418   809\n",
       "yes               139   61     94   25    106   75   500\n",
       "All               144  179    106  171    216  493  1309"
      ]
     },
     "execution_count": 21,
     "metadata": {},
     "output_type": "execute_result"
    }
   ],
   "source": [
    "titanic_class_sex"
   ]
  },
  {
   "cell_type": "markdown",
   "metadata": {
    "id": "qIjSjbQWdRA9"
   },
   "source": [
    "**Da mesma forma, o exemplo seguinte calcula o percentual de sobreviventes ou não sobreviventes, agrupando por classe de passageiro e sexo.**"
   ]
  },
  {
   "cell_type": "code",
   "execution_count": 22,
   "metadata": {
    "colab": {
     "base_uri": "https://localhost:8080/",
     "height": 204
    },
    "id": "2iPiMybX8aYn",
    "outputId": "3d91aeaa-b7a4-41e3-c87d-ec782e4bde61",
    "scrolled": false
   },
   "outputs": [
    {
     "data": {
      "text/html": [
       "<div>\n",
       "<style scoped>\n",
       "    .dataframe tbody tr th:only-of-type {\n",
       "        vertical-align: middle;\n",
       "    }\n",
       "\n",
       "    .dataframe tbody tr th {\n",
       "        vertical-align: top;\n",
       "    }\n",
       "\n",
       "    .dataframe thead tr th {\n",
       "        text-align: left;\n",
       "    }\n",
       "\n",
       "    .dataframe thead tr:last-of-type th {\n",
       "        text-align: right;\n",
       "    }\n",
       "</style>\n",
       "<table border=\"1\" class=\"dataframe\">\n",
       "  <thead>\n",
       "    <tr>\n",
       "      <th>passengerClass</th>\n",
       "      <th colspan=\"2\" halign=\"left\">1st</th>\n",
       "      <th colspan=\"2\" halign=\"left\">2nd</th>\n",
       "      <th colspan=\"2\" halign=\"left\">3rd</th>\n",
       "      <th>All</th>\n",
       "    </tr>\n",
       "    <tr>\n",
       "      <th>sex</th>\n",
       "      <th>female</th>\n",
       "      <th>male</th>\n",
       "      <th>female</th>\n",
       "      <th>male</th>\n",
       "      <th>female</th>\n",
       "      <th>male</th>\n",
       "      <th></th>\n",
       "    </tr>\n",
       "    <tr>\n",
       "      <th>survived</th>\n",
       "      <th></th>\n",
       "      <th></th>\n",
       "      <th></th>\n",
       "      <th></th>\n",
       "      <th></th>\n",
       "      <th></th>\n",
       "      <th></th>\n",
       "    </tr>\n",
       "  </thead>\n",
       "  <tbody>\n",
       "    <tr>\n",
       "      <th>no</th>\n",
       "      <td>0.034722</td>\n",
       "      <td>0.659218</td>\n",
       "      <td>0.113208</td>\n",
       "      <td>0.853801</td>\n",
       "      <td>0.509259</td>\n",
       "      <td>0.84787</td>\n",
       "      <td>0.618029</td>\n",
       "    </tr>\n",
       "    <tr>\n",
       "      <th>yes</th>\n",
       "      <td>0.965278</td>\n",
       "      <td>0.340782</td>\n",
       "      <td>0.886792</td>\n",
       "      <td>0.146199</td>\n",
       "      <td>0.490741</td>\n",
       "      <td>0.15213</td>\n",
       "      <td>0.381971</td>\n",
       "    </tr>\n",
       "    <tr>\n",
       "      <th>All</th>\n",
       "      <td>1.000000</td>\n",
       "      <td>1.000000</td>\n",
       "      <td>1.000000</td>\n",
       "      <td>1.000000</td>\n",
       "      <td>1.000000</td>\n",
       "      <td>1.00000</td>\n",
       "      <td>1.000000</td>\n",
       "    </tr>\n",
       "  </tbody>\n",
       "</table>\n",
       "</div>"
      ],
      "text/plain": [
       "passengerClass       1st                 2nd                 3rd           \\\n",
       "sex               female      male    female      male    female     male   \n",
       "survived                                                                    \n",
       "no              0.034722  0.659218  0.113208  0.853801  0.509259  0.84787   \n",
       "yes             0.965278  0.340782  0.886792  0.146199  0.490741  0.15213   \n",
       "All             1.000000  1.000000  1.000000  1.000000  1.000000  1.00000   \n",
       "\n",
       "passengerClass       All  \n",
       "sex                       \n",
       "survived                  \n",
       "no              0.618029  \n",
       "yes             0.381971  \n",
       "All             1.000000  "
      ]
     },
     "execution_count": 22,
     "metadata": {},
     "output_type": "execute_result"
    }
   ],
   "source": [
    "titanic_class_sex/titanic_class_sex.loc[\"All\"]"
   ]
  },
  {
   "cell_type": "markdown",
   "metadata": {
    "id": "2XsKbcRzdjYJ"
   },
   "source": [
    "**Alternativamente, o exemplo seguinte calcula o percentual de sexo e classe de passageito, entre os sobreviventes ou não sobreviventes.**"
   ]
  },
  {
   "cell_type": "code",
   "execution_count": 23,
   "metadata": {
    "colab": {
     "base_uri": "https://localhost:8080/",
     "height": 204
    },
    "id": "6u8jxUS68aYn",
    "outputId": "619f116e-5425-4901-e1db-0ebe63d1b4ff",
    "scrolled": true
   },
   "outputs": [
    {
     "data": {
      "text/html": [
       "<div>\n",
       "<style scoped>\n",
       "    .dataframe tbody tr th:only-of-type {\n",
       "        vertical-align: middle;\n",
       "    }\n",
       "\n",
       "    .dataframe tbody tr th {\n",
       "        vertical-align: top;\n",
       "    }\n",
       "\n",
       "    .dataframe thead tr th {\n",
       "        text-align: left;\n",
       "    }\n",
       "\n",
       "    .dataframe thead tr:last-of-type th {\n",
       "        text-align: right;\n",
       "    }\n",
       "</style>\n",
       "<table border=\"1\" class=\"dataframe\">\n",
       "  <thead>\n",
       "    <tr>\n",
       "      <th>passengerClass</th>\n",
       "      <th colspan=\"2\" halign=\"left\">1st</th>\n",
       "      <th colspan=\"2\" halign=\"left\">2nd</th>\n",
       "      <th colspan=\"2\" halign=\"left\">3rd</th>\n",
       "      <th>All</th>\n",
       "    </tr>\n",
       "    <tr>\n",
       "      <th>sex</th>\n",
       "      <th>female</th>\n",
       "      <th>male</th>\n",
       "      <th>female</th>\n",
       "      <th>male</th>\n",
       "      <th>female</th>\n",
       "      <th>male</th>\n",
       "      <th></th>\n",
       "    </tr>\n",
       "    <tr>\n",
       "      <th>survived</th>\n",
       "      <th></th>\n",
       "      <th></th>\n",
       "      <th></th>\n",
       "      <th></th>\n",
       "      <th></th>\n",
       "      <th></th>\n",
       "      <th></th>\n",
       "    </tr>\n",
       "  </thead>\n",
       "  <tbody>\n",
       "    <tr>\n",
       "      <th>no</th>\n",
       "      <td>0.006180</td>\n",
       "      <td>0.145859</td>\n",
       "      <td>0.014833</td>\n",
       "      <td>0.180470</td>\n",
       "      <td>0.135970</td>\n",
       "      <td>0.516687</td>\n",
       "      <td>1.0</td>\n",
       "    </tr>\n",
       "    <tr>\n",
       "      <th>yes</th>\n",
       "      <td>0.278000</td>\n",
       "      <td>0.122000</td>\n",
       "      <td>0.188000</td>\n",
       "      <td>0.050000</td>\n",
       "      <td>0.212000</td>\n",
       "      <td>0.150000</td>\n",
       "      <td>1.0</td>\n",
       "    </tr>\n",
       "    <tr>\n",
       "      <th>All</th>\n",
       "      <td>0.110008</td>\n",
       "      <td>0.136746</td>\n",
       "      <td>0.080978</td>\n",
       "      <td>0.130634</td>\n",
       "      <td>0.165011</td>\n",
       "      <td>0.376623</td>\n",
       "      <td>1.0</td>\n",
       "    </tr>\n",
       "  </tbody>\n",
       "</table>\n",
       "</div>"
      ],
      "text/plain": [
       "passengerClass       1st                 2nd                 3rd            \\\n",
       "sex               female      male    female      male    female      male   \n",
       "survived                                                                     \n",
       "no              0.006180  0.145859  0.014833  0.180470  0.135970  0.516687   \n",
       "yes             0.278000  0.122000  0.188000  0.050000  0.212000  0.150000   \n",
       "All             0.110008  0.136746  0.080978  0.130634  0.165011  0.376623   \n",
       "\n",
       "passengerClass  All  \n",
       "sex                  \n",
       "survived             \n",
       "no              1.0  \n",
       "yes             1.0  \n",
       "All             1.0  "
      ]
     },
     "execution_count": 23,
     "metadata": {},
     "output_type": "execute_result"
    }
   ],
   "source": [
    "titanic_class_sex.div(titanic_class_sex[\"All\"], axis=0)"
   ]
  },
  {
   "cell_type": "markdown",
   "metadata": {
    "id": "ERm26x8uf3sD"
   },
   "source": [
    "**Um outro tipo de tabela de frequência conta as ocorrências não por classes, mas por faixa. O exemplo abaixo calcula uma tabela de frequência dos passageiros do Titanic, dividindo-se em 9 faixas etárias.**"
   ]
  },
  {
   "cell_type": "code",
   "execution_count": 24,
   "metadata": {
    "colab": {
     "base_uri": "https://localhost:8080/"
    },
    "id": "-zk_H1Qv8aYn",
    "outputId": "1185d7bc-4115-4ed8-c331-d80be4176fa3",
    "scrolled": false
   },
   "outputs": [
    {
     "data": {
      "text/plain": [
       "[0.167, 9.037)       82\n",
       "[9.037, 17.907)      72\n",
       "[17.907, 26.778)    320\n",
       "[26.778, 35.648)    250\n",
       "[35.648, 44.519)    146\n",
       "[44.519, 53.389)     99\n",
       "[53.389, 62.259)     55\n",
       "[62.259, 71.13)      19\n",
       "[71.13, 80.08)        3\n",
       "dtype: int64"
      ]
     },
     "execution_count": 24,
     "metadata": {},
     "output_type": "execute_result"
    }
   ],
   "source": [
    "s = titanic['age'].dropna().to_numpy()\n",
    "out, bins = pd.cut(s, bins=9, include_lowest=True, right=False, retbins=True)\n",
    "out.value_counts()"
   ]
  },
  {
   "cell_type": "markdown",
   "metadata": {
    "id": "J3U90FQeQMIF"
   },
   "source": [
    "## Gráficos de Pizza"
   ]
  },
  {
   "cell_type": "markdown",
   "metadata": {
    "id": "-SEZ26CZm9Ot"
   },
   "source": [
    "**Gráficos de pizza são representações gráficas onde valores são apresentados, codificados em forma de regiões radiais, num formato que lembra fatias de uma pizza.**"
   ]
  },
  {
   "cell_type": "code",
   "execution_count": 25,
   "metadata": {
    "colab": {
     "base_uri": "https://localhost:8080/",
     "height": 441
    },
    "id": "Vr4aIEsH8aYn",
    "outputId": "a02ab5d9-1ef6-4b22-bd24-db8afd2b2673"
   },
   "outputs": [
    {
     "data": {
      "text/plain": [
       "(-1.1113280654799638,\n",
       " 1.100539471215311,\n",
       " -1.1212090063519629,\n",
       " 1.1136155340326674)"
      ]
     },
     "execution_count": 25,
     "metadata": {},
     "output_type": "execute_result"
    },
    {
     "name": "stderr",
     "output_type": "stream",
     "text": [
      "/home/jose/miniconda3/envs/statistics/lib_pypy/_functools.py:80: MatplotlibDeprecationWarning: savefig() got unexpected keyword argument \"orientation\" which is no longer supported as of 3.3 and will become an error two minor releases later\n",
      "  return self._func(*(self._args + fargs), **fkeywords)\n"
     ]
    },
    {
     "data": {
      "image/png": "[encoded data removed]",
      "text/plain": [
       "<Figure size 432x432 with 1 Axes>"
      ]
     },
     "metadata": {},
     "output_type": "display_data"
    }
   ],
   "source": [
    "plot = pd.crosstab(index=titanic[\"survived\"], columns=\"count\")\\\n",
    "    .plot.pie(autopct='%1.1f%%', y=\"count\", figsize=[6,6], title=\"Survived\", legend=False)\n",
    "plot.set_ylabel(\"\")\n",
    "plot.axis('equal')"
   ]
  },
  {
   "cell_type": "code",
   "execution_count": 26,
   "metadata": {
    "colab": {
     "base_uri": "https://localhost:8080/",
     "height": 319
    },
    "id": "EqqJi3yD8aYo",
    "outputId": "c0eb795f-03ee-4f51-dfc9-bc4cfc201561",
    "scrolled": false
   },
   "outputs": [
    {
     "name": "stderr",
     "output_type": "stream",
     "text": [
      "/home/jose/miniconda3/envs/statistics/lib_pypy/_functools.py:80: MatplotlibDeprecationWarning: savefig() got unexpected keyword argument \"orientation\" which is no longer supported as of 3.3 and will become an error two minor releases later\n",
      "  return self._func(*(self._args + fargs), **fkeywords)\n"
     ]
    },
    {
     "data": {
      "image/png": "[encoded data removed]",
      "text/plain": [
       "<Figure size 1152x360 with 3 Axes>"
      ]
     },
     "metadata": {},
     "output_type": "display_data"
    }
   ],
   "source": [
    "plots = titanic_sex.div(titanic_sex[\"All\"], axis=0).transpose()[0:2].plot.pie(figsize=[16,5], \\\n",
    "subplots=True, legend=False,  autopct='%1.1f%%', title=[\"Not Survived\",\"Survived\",\"All Passengers\"])\n",
    "for plot in plots:\n",
    "    plot.set_ylabel('')\n",
    "    plot.axis('equal')"
   ]
  },
  {
   "cell_type": "code",
   "execution_count": 27,
   "metadata": {
    "colab": {
     "base_uri": "https://localhost:8080/",
     "height": 319
    },
    "id": "aM0rolcp8aYo",
    "outputId": "041500ba-d852-40bc-e4ca-f02ea9c3b91d",
    "scrolled": false
   },
   "outputs": [
    {
     "name": "stderr",
     "output_type": "stream",
     "text": [
      "/home/jose/miniconda3/envs/statistics/lib_pypy/_functools.py:80: MatplotlibDeprecationWarning: savefig() got unexpected keyword argument \"orientation\" which is no longer supported as of 3.3 and will become an error two minor releases later\n",
      "  return self._func(*(self._args + fargs), **fkeywords)\n"
     ]
    },
    {
     "data": {
      "image/png": "[encoded data removed]",
      "text/plain": [
       "<Figure size 1152x360 with 3 Axes>"
      ]
     },
     "metadata": {},
     "output_type": "display_data"
    }
   ],
   "source": [
    "plots = titanic_class.div(titanic_class[\"All\"], axis=0).transpose()[0:3].\\\n",
    "plot.pie(title=[\"Not Survived\",\"Survived\",\"All Passengers\"],figsize=[16,5],\\\n",
    "subplots=True, legend=False,  autopct='%1.1f%%')\n",
    "for plot in plots:\n",
    "    plot.set_ylabel('')\n",
    "    plot.axis('equal')"
   ]
  },
  {
   "cell_type": "code",
   "execution_count": 28,
   "metadata": {
    "colab": {
     "base_uri": "https://localhost:8080/",
     "height": 425
    },
    "id": "1TRuUAcO8aYp",
    "outputId": "0dbeb1a2-8014-4cb2-b2ea-3106f5b07a5b"
   },
   "outputs": [
    {
     "data": {
      "text/plain": [
       "(-1.1074065303894531,\n",
       " 1.1003526919233073,\n",
       " -1.1089434829190796,\n",
       " 1.1091572404708565)"
      ]
     },
     "execution_count": 28,
     "metadata": {},
     "output_type": "execute_result"
    },
    {
     "name": "stderr",
     "output_type": "stream",
     "text": [
      "/home/jose/miniconda3/envs/statistics/lib_pypy/_functools.py:80: MatplotlibDeprecationWarning: savefig() got unexpected keyword argument \"orientation\" which is no longer supported as of 3.3 and will become an error two minor releases later\n",
      "  return self._func(*(self._args + fargs), **fkeywords)\n"
     ]
    },
    {
     "data": {
      "image/png": "[encoded data removed]",
      "text/plain": [
       "<Figure size 432x432 with 1 Axes>"
      ]
     },
     "metadata": {},
     "output_type": "display_data"
    }
   ],
   "source": [
    "s = titanic['age'].dropna().to_numpy()\n",
    "out, bins = pd.cut(s, bins=4, include_lowest=True, right=False, retbins=True)\n",
    "out.value_counts().plot.pie(figsize=[6,6], legend=False, autopct='%1.1f%%')\n",
    "plt.ylabel(\"\")\n",
    "plt.axis('equal')"
   ]
  },
  {
   "cell_type": "code",
   "execution_count": 29,
   "metadata": {
    "colab": {
     "base_uri": "https://localhost:8080/",
     "height": 395
    },
    "id": "OaO0J6FT8aYp",
    "outputId": "6968aead-28a9-4b8c-c95f-e8618706652a",
    "scrolled": false
   },
   "outputs": [
    {
     "name": "stderr",
     "output_type": "stream",
     "text": [
      "/home/jose/miniconda3/envs/statistics/lib_pypy/_functools.py:80: MatplotlibDeprecationWarning: savefig() got unexpected keyword argument \"orientation\" which is no longer supported as of 3.3 and will become an error two minor releases later\n",
      "  return self._func(*(self._args + fargs), **fkeywords)\n"
     ]
    },
    {
     "data": {
      "image/png": "[encoded data removed]",
      "text/plain": [
       "<Figure size 432x432 with 1 Axes>"
      ]
     },
     "metadata": {
      "needs_background": "light"
     },
     "output_type": "display_data"
    }
   ],
   "source": [
    "plot = pd.crosstab(index=titanic[\"survived\"], columns=\"count\")\\\n",
    "    .plot.bar(y=\"count\", figsize=[6,6], legend=False)"
   ]
  },
  {
   "cell_type": "code",
   "execution_count": 30,
   "metadata": {
    "colab": {
     "base_uri": "https://localhost:8080/",
     "height": 441
    },
    "id": "Dj6YlGxI8aYp",
    "outputId": "ecbbf09f-8568-4db8-b43a-5def87e1dbe6",
    "scrolled": false
   },
   "outputs": [
    {
     "name": "stderr",
     "output_type": "stream",
     "text": [
      "/home/jose/miniconda3/envs/statistics/lib_pypy/_functools.py:80: MatplotlibDeprecationWarning: savefig() got unexpected keyword argument \"orientation\" which is no longer supported as of 3.3 and will become an error two minor releases later\n",
      "  return self._func(*(self._args + fargs), **fkeywords)\n"
     ]
    },
    {
     "data": {
      "image/png": "[encoded data removed]",
      "text/plain": [
       "<Figure size 720x432 with 2 Axes>"
      ]
     },
     "metadata": {
      "needs_background": "light"
     },
     "output_type": "display_data"
    }
   ],
   "source": [
    "fig, axes = plt.subplots(nrows=1, ncols=2, figsize=(10, 6))\n",
    "plot = pd.crosstab(index=titanic[\"survived\"], columns=\"count\")\\\n",
    "    .plot.pie(ax=axes[0], autopct='%1.1f%%', y=\"count\", title=\"Survived\", legend=False)\n",
    "plot.axis('equal')\n",
    "pd.crosstab(index=titanic[\"survived\"], columns=\"count\")\\\n",
    "    .plot.bar(ax=axes[1], y=\"count\", legend=False)\n",
    "fig.tight_layout()"
   ]
  },
  {
   "cell_type": "code",
   "execution_count": 31,
   "metadata": {
    "colab": {
     "base_uri": "https://localhost:8080/",
     "height": 374
    },
    "id": "MuVb8Nm68aYq",
    "outputId": "f81d60d7-a295-4e9b-f321-25b481b36090"
   },
   "outputs": [
    {
     "data": {
      "image/png": "[encoded data removed]",
      "text/plain": [
       "<Figure size 1152x360 with 3 Axes>"
      ]
     },
     "metadata": {
      "needs_background": "light"
     },
     "output_type": "display_data"
    }
   ],
   "source": [
    "plots = titanic_sex.transpose()[0:2].plot.bar(figsize=[16,5], \\\n",
    "subplots=True, legend=False, title=[\"Not Survived\",\"Survived\",\"All Passengers\"], layout=(1,3))"
   ]
  },
  {
   "cell_type": "code",
   "execution_count": 32,
   "metadata": {
    "colab": {
     "base_uri": "https://localhost:8080/",
     "height": 358
    },
    "id": "ubqIBLJa8aYq",
    "outputId": "444e3823-92cf-41e0-cfef-220443fe3731",
    "scrolled": true
   },
   "outputs": [
    {
     "data": {
      "image/png": "[encoded data removed]",
      "text/plain": [
       "<Figure size 864x360 with 1 Axes>"
      ]
     },
     "metadata": {
      "needs_background": "light"
     },
     "output_type": "display_data"
    }
   ],
   "source": [
    "plots = titanic_sex[0:2].transpose()[0:3].plot.bar(figsize=[12,5])"
   ]
  },
  {
   "cell_type": "code",
   "execution_count": 33,
   "metadata": {
    "colab": {
     "base_uri": "https://localhost:8080/",
     "height": 358
    },
    "id": "_FSOZrsn8aYq",
    "outputId": "fb679407-c565-42a1-c957-cc96182624a4"
   },
   "outputs": [
    {
     "data": {
      "image/png": "[encoded data removed]",
      "text/plain": [
       "<Figure size 720x360 with 1 Axes>"
      ]
     },
     "metadata": {
      "needs_background": "light"
     },
     "output_type": "display_data"
    }
   ],
   "source": [
    "plots = titanic_sex[0:2].transpose()[0:3].plot.bar(figsize=[10,5], stacked=True)"
   ]
  },
  {
   "cell_type": "code",
   "execution_count": 34,
   "metadata": {
    "colab": {
     "base_uri": "https://localhost:8080/",
     "height": 359
    },
    "id": "vktc4N138aYq",
    "outputId": "13ea95c8-57ec-4eb9-acee-e97232c37b7b",
    "scrolled": true
   },
   "outputs": [
    {
     "data": {
      "image/png": "[encoded data removed]",
      "text/plain": [
       "<Figure size 1152x360 with 3 Axes>"
      ]
     },
     "metadata": {
      "needs_background": "light"
     },
     "output_type": "display_data"
    }
   ],
   "source": [
    "plots = titanic_class.transpose()[0:3].\\\n",
    "plot.bar(title=[\"Not Survived\",\"Survived\",\"All Passengers\"],figsize=[16,5],\\\n",
    "subplots=True, layout=(1,3))"
   ]
  },
  {
   "cell_type": "code",
   "execution_count": 35,
   "metadata": {
    "colab": {
     "base_uri": "https://localhost:8080/",
     "height": 343
    },
    "id": "hXsegX338aYr",
    "outputId": "68faa68f-b3a2-4791-975e-41ee34d188fc"
   },
   "outputs": [
    {
     "data": {
      "image/png": "[encoded data removed]",
      "text/plain": [
       "<Figure size 1152x360 with 1 Axes>"
      ]
     },
     "metadata": {
      "needs_background": "light"
     },
     "output_type": "display_data"
    }
   ],
   "source": [
    "plots = titanic_class[0:2].transpose()[0:3].\\\n",
    "plot.bar(figsize=[16,5])"
   ]
  },
  {
   "cell_type": "code",
   "execution_count": 36,
   "metadata": {
    "colab": {
     "base_uri": "https://localhost:8080/",
     "height": 343
    },
    "id": "2mY91LR28aYr",
    "outputId": "50e748e3-2686-47c8-a11d-4d0e332ae174",
    "scrolled": true
   },
   "outputs": [
    {
     "data": {
      "image/png": "[encoded data removed]",
      "text/plain": [
       "<Figure size 720x360 with 1 Axes>"
      ]
     },
     "metadata": {
      "needs_background": "light"
     },
     "output_type": "display_data"
    }
   ],
   "source": [
    "plots = titanic_class[0:2].transpose()[0:3].plot.bar(figsize=[10,5], stacked=True)"
   ]
  },
  {
   "cell_type": "code",
   "execution_count": 37,
   "metadata": {
    "colab": {
     "base_uri": "https://localhost:8080/",
     "height": 465
    },
    "id": "6hOHyCe18aYr",
    "outputId": "19f3c945-441c-4922-d3f8-6890bb361671",
    "scrolled": false
   },
   "outputs": [
    {
     "data": {
      "text/plain": [
       "<AxesSubplot:>"
      ]
     },
     "execution_count": 37,
     "metadata": {},
     "output_type": "execute_result"
    },
    {
     "data": {
      "image/png": "[encoded data removed]",
      "text/plain": [
       "<Figure size 1008x432 with 1 Axes>"
      ]
     },
     "metadata": {
      "needs_background": "light"
     },
     "output_type": "display_data"
    }
   ],
   "source": [
    "s = titanic['age'].dropna().to_numpy()\n",
    "out, bins = pd.cut(s, bins=10, include_lowest=True, right=False, retbins=True)\n",
    "out.value_counts().plot.bar(figsize=[14,6])"
   ]
  },
  {
   "cell_type": "code",
   "execution_count": 38,
   "metadata": {
    "colab": {
     "base_uri": "https://localhost:8080/",
     "height": 516
    },
    "id": "6txgXGpR8aYr",
    "outputId": "42605607-f465-4153-8fb0-85cfdd0d3f41"
   },
   "outputs": [
    {
     "data": {
      "text/plain": [
       "(-1.1074065303894531,\n",
       " 1.1003526919233073,\n",
       " -1.1089434829190796,\n",
       " 1.1091572404708565)"
      ]
     },
     "execution_count": 38,
     "metadata": {},
     "output_type": "execute_result"
    },
    {
     "name": "stderr",
     "output_type": "stream",
     "text": [
      "/home/jose/miniconda3/envs/statistics/lib_pypy/_functools.py:80: MatplotlibDeprecationWarning: savefig() got unexpected keyword argument \"orientation\" which is no longer supported as of 3.3 and will become an error two minor releases later\n",
      "  return self._func(*(self._args + fargs), **fkeywords)\n"
     ]
    },
    {
     "data": {
      "image/png": "[encoded data removed]",
      "text/plain": [
       "<Figure size 1152x432 with 2 Axes>"
      ]
     },
     "metadata": {
      "needs_background": "light"
     },
     "output_type": "display_data"
    }
   ],
   "source": [
    "fig, axes = plt.subplots(nrows=1, ncols=2, figsize=(16, 6))\n",
    "n_bins=4\n",
    "s = titanic['age'].dropna().to_numpy()\n",
    "out, bins = pd.cut(s, bins=n_bins, include_lowest=True, right=False, retbins=True)\n",
    "out.value_counts().plot.bar(ax=axes[0])\n",
    "\n",
    "s = titanic['age'].dropna().to_numpy()\n",
    "out, bins = pd.cut(s, bins=n_bins, include_lowest=True, right=False, retbins=True)\n",
    "out.value_counts().plot.pie(ax=axes[1], legend=False, autopct='%1.1f%%')\n",
    "plt.ylabel(\"\")\n",
    "plt.axis('equal')"
   ]
  },
  {
   "cell_type": "code",
   "execution_count": null,
   "metadata": {
    "id": "0W1Bqkqr8aYs"
   },
   "outputs": [],
   "source": []
  },
  {
   "cell_type": "code",
   "execution_count": null,
   "metadata": {},
   "outputs": [],
   "source": []
  }
 ],
 "metadata": {
  "colab": {
   "collapsed_sections": [],
   "name": "Estatística Descritiva 01.ipynb",
   "provenance": []
  },
  "kernelspec": {
   "display_name": "Python 3",
   "language": "python",
   "name": "python3"
  },
  "language_info": {
   "codemirror_mode": {
    "name": "ipython",
    "version": 3
   },
   "file_extension": ".py",
   "mimetype": "text/x-python",
   "name": "python",
   "nbconvert_exporter": "python",
   "pygments_lexer": "ipython3",
   "version": "3.7.10"
  }
 },
 "nbformat": 4,
 "nbformat_minor": 1
}
